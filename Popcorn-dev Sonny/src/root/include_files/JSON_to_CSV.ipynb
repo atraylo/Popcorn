{
 "cells": [
  {
   "cell_type": "code",
   "execution_count": 14,
   "id": "070b8849",
   "metadata": {},
   "outputs": [],
   "source": [
    "import os\n",
    "import pandas as pd\n",
    "import numpy as np\n",
    "\n",
    "#additional imports used\n",
    "import requests\n",
    "import json\n",
    "import csv"
   ]
  },
  {
   "cell_type": "code",
   "execution_count": 20,
   "id": "fd440ee6",
   "metadata": {},
   "outputs": [],
   "source": [
    "#URL that includes API key and request made to the API.\n",
    "#More info on calls here: https://imdb-api.com/api\n",
    "\n",
    "main_url = \"https://imdb-api.com/API/AdvancedSearch/k_c4586ape\"\n",
    "\n",
    "#String that can be added to the full url to call specifc genres of movies. EX: genres=\"action\"\n",
    "\n",
    "genres = \"?genres=adventure,animation\"\n",
    "\n",
    "#String that can be added to full url to call specifc group of movies. EX: groups=top_250 returns top 250 rated movies.\n",
    "#If combined with a genre, it will return top_250 rated movies of that specific genre.\n",
    "\n",
    "groups=\"&groups=top_250\"\n",
    "\n",
    "full_url = main_url + genres + groups\n",
    "\n",
    "payload = {}\n",
    "headers = {}\n",
    " \n",
    "response = requests.request(\"GET\", full_url, headers=headers, data = payload)"
   ]
  },
  {
   "cell_type": "code",
   "execution_count": 21,
   "id": "a028c885",
   "metadata": {},
   "outputs": [],
   "source": [
    "#Response data from api encoded in utf-8\n",
    "resp_data = json.loads(response.text.encode('utf8'))\n",
    "\n",
    "#Getting results only from response data\n",
    "mov_data = resp_data['results']\n",
    "\n",
    "#opening csv file to write to and update whenever new call is made and this cell is ran.\n",
    "#File name is data.csv.\n",
    "\n",
    "data_file = open('data.csv','w+', newline='', encoding='utf-8')\n",
    "csv_writer = csv.writer(data_file)\n",
    "\n",
    "#Loop to convert results from JSON to CSV\n",
    "count = 0\n",
    "for data in mov_data:\n",
    "    if count == 0:\n",
    "        header = data.keys()\n",
    "        csv_writer.writerow(header)\n",
    "        count += 1\n",
    "    csv_writer.writerow(data.values())\n",
    " \n",
    "data_file.close()"
   ]
  }
 ],
 "metadata": {
  "kernelspec": {
   "display_name": "Python 3",
   "language": "python",
   "name": "python3"
  },
  "language_info": {
   "codemirror_mode": {
    "name": "ipython",
    "version": 3
   },
   "file_extension": ".py",
   "mimetype": "text/x-python",
   "name": "python",
   "nbconvert_exporter": "python",
   "pygments_lexer": "ipython3",
   "version": "3.8.8"
  }
 },
 "nbformat": 4,
 "nbformat_minor": 5
}
